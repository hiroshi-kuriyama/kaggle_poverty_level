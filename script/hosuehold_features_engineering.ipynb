{
 "cells": [
  {
   "cell_type": "markdown",
   "metadata": {
    "_uuid": "a25dad79d0e0ac40da4ab1ffa5bf3e24008ca367"
   },
   "source": [
    "# Household Features Engineering\n",
    "\n",
    "\n"
   ]
  },
  {
   "cell_type": "code",
   "execution_count": 1,
   "metadata": {
    "_cell_guid": "79c7e3d0-c299-4dcb-8224-4455121ee9b0",
    "_uuid": "d629ff2d2480ee46fbb7e2d37f6b5fab8052498a"
   },
   "outputs": [],
   "source": [
    "input_dir = '../input/'\n",
    "working_dir = '../working/'"
   ]
  },
  {
   "cell_type": "code",
   "execution_count": 2,
   "metadata": {
    "_uuid": "9632d88df34a7b6eed6332ca307520251a697eb0"
   },
   "outputs": [],
   "source": [
    "import os\n",
    "import numpy as np\n",
    "import pandas as pd\n",
    "import lightgbm as lgb\n",
    "import matplotlib.pyplot as plt\n",
    "%matplotlib inline"
   ]
  },
  {
   "cell_type": "code",
   "execution_count": 3,
   "metadata": {
    "_uuid": "6d041cc6d400253f8d3cc705f8d5c4497a6f4d6d",
    "scrolled": true
   },
   "outputs": [
    {
     "name": "stdout",
     "output_type": "stream",
     "text": [
      "(9557, 143)\n",
      "(23856, 142)\n",
      "(33413, 142)\n"
     ]
    }
   ],
   "source": [
    "train = pd.read_csv(os.path.join(input_dir, 'train.csv'))\n",
    "test = pd.read_csv(os.path.join(input_dir, 'test.csv'))\n",
    "\n",
    "# Set index\n",
    "train.index = train['Id'].values\n",
    "test.index = test['Id'].values\n",
    "\n",
    "# Pick Target\n",
    "train_target = train['Target']\n",
    "\n",
    "# Union train and test\n",
    "all_data = pd.concat([train.drop('Target', axis=1), test], axis=0)\n",
    "\n",
    "print(train.shape)\n",
    "print(test.shape)\n",
    "print(all_data.shape)"
   ]
  },
  {
   "cell_type": "code",
   "execution_count": 4,
   "metadata": {
    "_uuid": "75c11ded696310ea36bf203b715f29209f85aa26"
   },
   "outputs": [],
   "source": [
    "# data cleaning\n",
    "# copy from https://www.kaggle.com/katacs/data-cleaning-and-random-forest\n",
    "# and make a change it\n",
    "def data_cleaning(data):\n",
    "    data['dependency']=np.sqrt(data['SQBdependency'])\n",
    "#     data['rez_esc']=data['rez_esc'].fillna(0)\n",
    "    data['v18q1']=data['v18q1'].fillna(0)\n",
    "    data['v2a1']=data['v2a1'].fillna(0)\n",
    "    \n",
    "    data['edjefa'] = data['edjefa'].replace({'no': 0, 'yes': 1})\n",
    "    data['edjefa'] = data['edjefa'].astype('int')\n",
    "    data['edjefe'] = data['edjefe'].replace({'no': 0, 'yes': 1})\n",
    "    data['edjefe'] = data['edjefe'].astype('int')\n",
    "    meaneduc_nan=data[data['meaneduc'].isnull()][['Id','idhogar','escolari']]\n",
    "    me=meaneduc_nan.groupby('idhogar')['escolari'].mean().reset_index()\n",
    "    for row in meaneduc_nan.iterrows():\n",
    "        idx=row[0]\n",
    "        idhogar=row[1]['idhogar']\n",
    "        m=me[me['idhogar']==idhogar]['escolari'].tolist()[0]\n",
    "        data.at[idx, 'meaneduc']=m\n",
    "        data.at[idx, 'SQBmeaned']=m*m\n",
    "        \n",
    "    return data"
   ]
  },
  {
   "cell_type": "code",
   "execution_count": 5,
   "metadata": {
    "_uuid": "df5e868f140eceff0c6b9af50254b0f1d24ce84b"
   },
   "outputs": [],
   "source": [
    "# train = data_cleaning(train)\n",
    "# test = data_cleaning(test)\n",
    "all_data = data_cleaning(all_data)"
   ]
  },
  {
   "cell_type": "code",
   "execution_count": 6,
   "metadata": {
    "_uuid": "a4f45c1b8d27f699eb1eac3cd8d05a6dd84db46d"
   },
   "outputs": [],
   "source": [
    "# Tranform One-hot variables into Categorical variables\n",
    "def onehot2cat(data, cat_col_new, cat_col_olds):\n",
    "    cat_col = data[cat_col_olds].idxmax(1)\n",
    "    cat_col.name = cat_col_new\n",
    "    cat_col = cat_col.astype('category')\n",
    "    data = pd.concat([data, cat_col], axis=1)\n",
    "    data = data.drop(cat_col_olds, axis=1)\n",
    "    return data"
   ]
  },
  {
   "cell_type": "code",
   "execution_count": 7,
   "metadata": {
    "_uuid": "5693abf24771f907974986c3fc22866ab21a1588"
   },
   "outputs": [],
   "source": [
    "cat_col_new_list = ['pared', 'piso', 'techo', 'abastagua', 'sanitario',\n",
    "                'energcocinar', 'elimbasu', 'estadocivil',\n",
    "                'parentesco', 'tipovivi', 'lugar', 'area']\n",
    "cat_col_dict = {}\n",
    "for cat_col_new in cat_col_new_list:\n",
    "    cat_col_olds = [s for s in train.columns.tolist() if s.startswith(cat_col_new)]\n",
    "    cat_col_dict[cat_col_new] = cat_col_olds\n",
    "    \n",
    "cat_col_dict['electricity'] = ['public', 'planpri', 'noelec', 'coopele']\n",
    "cat_col_dict['sex'] = ['male', 'female']"
   ]
  },
  {
   "cell_type": "code",
   "execution_count": 8,
   "metadata": {
    "_uuid": "f757cd047fa39ffddba8feaaaf99e1d3f37854eb"
   },
   "outputs": [
    {
     "name": "stdout",
     "output_type": "stream",
     "text": [
      "['paredblolad', 'paredzocalo', 'paredpreb', 'pareddes', 'paredmad', 'paredzinc', 'paredfibras', 'paredother']\n",
      "['pisomoscer', 'pisocemento', 'pisoother', 'pisonatur', 'pisonotiene', 'pisomadera']\n",
      "['techozinc', 'techoentrepiso', 'techocane', 'techootro']\n",
      "['abastaguadentro', 'abastaguafuera', 'abastaguano']\n",
      "['sanitario1', 'sanitario2', 'sanitario3', 'sanitario5', 'sanitario6']\n",
      "['energcocinar1', 'energcocinar2', 'energcocinar3', 'energcocinar4']\n",
      "['elimbasu1', 'elimbasu2', 'elimbasu3', 'elimbasu4', 'elimbasu5', 'elimbasu6']\n",
      "['estadocivil1', 'estadocivil2', 'estadocivil3', 'estadocivil4', 'estadocivil5', 'estadocivil6', 'estadocivil7']\n",
      "['parentesco1', 'parentesco2', 'parentesco3', 'parentesco4', 'parentesco5', 'parentesco6', 'parentesco7', 'parentesco8', 'parentesco9', 'parentesco10', 'parentesco11', 'parentesco12']\n",
      "['tipovivi1', 'tipovivi2', 'tipovivi3', 'tipovivi4', 'tipovivi5']\n",
      "['lugar1', 'lugar2', 'lugar3', 'lugar4', 'lugar5', 'lugar6']\n",
      "['area1', 'area2']\n",
      "['public', 'planpri', 'noelec', 'coopele']\n",
      "['male', 'female']\n"
     ]
    }
   ],
   "source": [
    "for cat_col_new, cat_col_olds in cat_col_dict.items():\n",
    "    print(cat_col_olds)\n",
    "#     train = onehot2cat(train, cat_col_new, cat_col_olds)\n",
    "#     test = onehot2cat(test, cat_col_new, cat_col_olds)\n",
    "    all_data = onehot2cat(all_data, cat_col_new, cat_col_olds)"
   ]
  },
  {
   "cell_type": "code",
   "execution_count": 9,
   "metadata": {
    "_uuid": "24b29b1875e7ba44bc77e79bb227425fb25a46cf"
   },
   "outputs": [],
   "source": [
    "# Encode one-hot variables into numeric\n",
    "# like (bad, regular, good) -> (0 ,1, 2)\n",
    "def onehot2num(data, status_col_new, status_col_olds):\n",
    "    status_df = data[status_col_olds]\n",
    "    status_df.columns = list(range(len(status_col_olds)))\n",
    "    num_col = status_df.idxmax(1)\n",
    "    num_col.name = status_col_new\n",
    "    data = pd.concat([data, num_col], axis=1)\n",
    "    data = data.drop(status_col_olds, axis=1)\n",
    "    return data"
   ]
  },
  {
   "cell_type": "code",
   "execution_count": 10,
   "metadata": {
    "_uuid": "736fb171f7acf83c7b457dbd825b234dde0bc2b8"
   },
   "outputs": [],
   "source": [
    "status_col_new_list = ['epared', 'etecho', 'eviv', 'instlevel']\n",
    "status_col_dict = {}\n",
    "for status_col_new in status_col_new_list:\n",
    "    status_col_olds = [s for s in train.columns.tolist() if s.startswith(status_col_new)]\n",
    "    status_col_dict[status_col_new] = status_col_olds"
   ]
  },
  {
   "cell_type": "code",
   "execution_count": 11,
   "metadata": {
    "_uuid": "d6c8aaf162b3babb766d29ed38d7f85278abcd84"
   },
   "outputs": [
    {
     "name": "stdout",
     "output_type": "stream",
     "text": [
      "['epared1', 'epared2', 'epared3']\n",
      "['etecho1', 'etecho2', 'etecho3']\n",
      "['eviv1', 'eviv2', 'eviv3']\n",
      "['instlevel1', 'instlevel2', 'instlevel3', 'instlevel4', 'instlevel5', 'instlevel6', 'instlevel7', 'instlevel8', 'instlevel9']\n"
     ]
    }
   ],
   "source": [
    "for status_col_new, status_col_olds in status_col_dict.items():\n",
    "    print(status_col_olds)\n",
    "#     train = onehot2num(train, status_col_new, status_col_olds)\n",
    "#     test = onehot2num(test, status_col_new, status_col_olds)\n",
    "    all_data = onehot2num(all_data, status_col_new, status_col_olds)"
   ]
  },
  {
   "cell_type": "code",
   "execution_count": 12,
   "metadata": {
    "_uuid": "8f9a9ca4f46c2a659fe15c2e444b496b015bf074"
   },
   "outputs": [],
   "source": [
    "# Delete needless columns\n",
    "needless_cols = ['r4t3', 'tamhog', 'tamviv', 'hhsize', 'v18q', 'v14a', 'agesq',\n",
    "                 'mobilephone']\n",
    "SQB_cols = [s for s in train.columns.tolist() if 'SQB' in s]\n",
    "needless_cols.extend(SQB_cols)\n",
    "# train = train.drop(needless_cols, axis=1)\n",
    "# test = test.drop(needless_cols, axis=1)\n",
    "all_data = all_data.drop(needless_cols, axis=1)"
   ]
  },
  {
   "cell_type": "code",
   "execution_count": 13,
   "metadata": {
    "_uuid": "b491892f67d35412857245b2430818ba301d5559"
   },
   "outputs": [],
   "source": [
    "# Encode overcrowdig variables into crowding rate\n",
    "all_data['hacdor_rate'] = all_data['hogar_total'] / all_data['bedrooms']\n",
    "all_data['hacapo_rate'] = all_data['hogar_total'] / all_data['rooms']\n",
    "all_data = all_data.drop(['hacdor', 'hacapo'], axis=1)"
   ]
  },
  {
   "cell_type": "code",
   "execution_count": 14,
   "metadata": {
    "_uuid": "fc6bc04cf22047e03e16f3f384612fc193288f3a"
   },
   "outputs": [],
   "source": [
    "# Encode dummy variables into category type\n",
    "dummy_col_list = ['cielorazo', 'dis', 'computer', 'television']\n",
    "for dummy_col in dummy_col_list:\n",
    "#     train[dummy_col] = train[dummy_col].astype('category')\n",
    "#     test[dummy_col] = test[dummy_col].astype('category')\n",
    "    all_data[dummy_col] = all_data[dummy_col].astype('category')"
   ]
  },
  {
   "cell_type": "code",
   "execution_count": 15,
   "metadata": {
    "_uuid": "8e4250bde94328d69b6bd1c9c8fcf8bdc9caa862"
   },
   "outputs": [
    {
     "data": {
      "text/plain": [
       "(33413, 52)"
      ]
     },
     "execution_count": 15,
     "metadata": {},
     "output_type": "execute_result"
    }
   ],
   "source": [
    "all_data.shape"
   ]
  },
  {
   "cell_type": "markdown",
   "metadata": {
    "_uuid": "0bb5ed86aaf82e71dabc79424acd2bfe18b6a294"
   },
   "source": [
    "## Aggregate household variables"
   ]
  },
  {
   "cell_type": "markdown",
   "metadata": {
    "_uuid": "2941d9db5ce83eefe5134bd93eea613e68a5effe"
   },
   "source": [
    "大人の平均や子供の平均を取るとき、その世帯に大人あるいは子供がいない場合、値はNULLにする。"
   ]
  },
  {
   "cell_type": "code",
   "execution_count": 16,
   "metadata": {
    "_uuid": "a278bdb6cf5999750f884a1e526385473c7278cd"
   },
   "outputs": [],
   "source": [
    "adult_data = all_data.query('age>18')\n",
    "child_data = all_data.query('age<=18')"
   ]
  },
  {
   "cell_type": "code",
   "execution_count": 17,
   "metadata": {
    "_uuid": "3f7f749f9e66f26970992b3bb478ae945ed590cf"
   },
   "outputs": [],
   "source": [
    "# DataFrameとカラム名が来たら、idhogarでgroupbyして、そのカラムの平均、分散、最小値などを一括で出力する関数\n",
    "\n",
    "def agg_hogar(df, df_name, col):\n",
    "    df_g = df.groupby('idhogar')[col]\n",
    "    \n",
    "    df_g_mean = df_g.mean()\n",
    "    df_g_std =  df_g.std()\n",
    "    df_g_min = df_g.min()\n",
    "    df_g_median = df_g.median()\n",
    "    df_g_max = df_g.max()\n",
    "    df_g_range = df_g_max - df_g_min\n",
    "    \n",
    "    df_g_agg = pd.concat([df_g_mean,\n",
    "                          df_g_std,\n",
    "                          df_g_min,\n",
    "                          df_g_median,\n",
    "                          df_g_max,\n",
    "                          df_g_range],\n",
    "                         axis=1)\n",
    "    \n",
    "    agg_names = ['mean', 'std', 'min', 'median', 'max', 'range']\n",
    "    col_names = []\n",
    "    for agg_name in agg_names:\n",
    "        col_name = df_name + '_' + col + '_' + agg_name\n",
    "        col_names.append(col_name)\n",
    "    df_g_agg.columns = col_names\n",
    "    \n",
    "    return df_g_agg"
   ]
  },
  {
   "cell_type": "code",
   "execution_count": 18,
   "metadata": {
    "_uuid": "9fc808979047fe27dedd59ec3e72ae2e90512765"
   },
   "outputs": [],
   "source": [
    "agg_dt_col_dict = {\n",
    "    'all'  : ['age', 'rez_esc'],\n",
    "    'adult': ['age', 'escolari', 'instlevel'],\n",
    "    'child': ['age', 'rez_esc']\n",
    "}\n",
    "\n",
    "agg_dt_dict = {\n",
    "    'all'  : all_data,\n",
    "    'adult': adult_data,\n",
    "    'child': child_data\n",
    "}"
   ]
  },
  {
   "cell_type": "code",
   "execution_count": 19,
   "metadata": {
    "_uuid": "aa654d9211476cc9b0b8af01cc01399c26b479fe"
   },
   "outputs": [],
   "source": [
    "hogar_data = all_data.groupby('idhogar')['idhogar'].head(1)\n",
    "hogar_data.index = hogar_data\n",
    "\n",
    "for key, cols_list_to_agg in agg_dt_col_dict.items():\n",
    "    df = agg_dt_dict[key]\n",
    "    for col in cols_list_to_agg:\n",
    "        hogar_data = pd.concat([hogar_data, agg_hogar(df, key, col)], axis=1, sort=False)"
   ]
  },
  {
   "cell_type": "code",
   "execution_count": 20,
   "metadata": {
    "_uuid": "8bd8932762ffcac40be4cbe6bd967a8e16d00763"
   },
   "outputs": [
    {
     "data": {
      "text/html": [
       "<div>\n",
       "<style scoped>\n",
       "    .dataframe tbody tr th:only-of-type {\n",
       "        vertical-align: middle;\n",
       "    }\n",
       "\n",
       "    .dataframe tbody tr th {\n",
       "        vertical-align: top;\n",
       "    }\n",
       "\n",
       "    .dataframe thead th {\n",
       "        text-align: right;\n",
       "    }\n",
       "</style>\n",
       "<table border=\"1\" class=\"dataframe\">\n",
       "  <thead>\n",
       "    <tr style=\"text-align: right;\">\n",
       "      <th></th>\n",
       "      <th>idhogar</th>\n",
       "      <th>all_age_mean</th>\n",
       "      <th>all_age_std</th>\n",
       "      <th>all_age_min</th>\n",
       "      <th>all_age_median</th>\n",
       "      <th>all_age_max</th>\n",
       "      <th>all_age_range</th>\n",
       "      <th>all_rez_esc_mean</th>\n",
       "      <th>all_rez_esc_std</th>\n",
       "      <th>all_rez_esc_min</th>\n",
       "      <th>...</th>\n",
       "      <th>child_age_min</th>\n",
       "      <th>child_age_median</th>\n",
       "      <th>child_age_max</th>\n",
       "      <th>child_age_range</th>\n",
       "      <th>child_rez_esc_mean</th>\n",
       "      <th>child_rez_esc_std</th>\n",
       "      <th>child_rez_esc_min</th>\n",
       "      <th>child_rez_esc_median</th>\n",
       "      <th>child_rez_esc_max</th>\n",
       "      <th>child_rez_esc_range</th>\n",
       "    </tr>\n",
       "  </thead>\n",
       "  <tbody>\n",
       "    <tr>\n",
       "      <th>21eb7fcc1</th>\n",
       "      <td>21eb7fcc1</td>\n",
       "      <td>43.0</td>\n",
       "      <td>NaN</td>\n",
       "      <td>43</td>\n",
       "      <td>43.0</td>\n",
       "      <td>43</td>\n",
       "      <td>0</td>\n",
       "      <td>NaN</td>\n",
       "      <td>NaN</td>\n",
       "      <td>NaN</td>\n",
       "      <td>...</td>\n",
       "      <td>NaN</td>\n",
       "      <td>NaN</td>\n",
       "      <td>NaN</td>\n",
       "      <td>NaN</td>\n",
       "      <td>NaN</td>\n",
       "      <td>NaN</td>\n",
       "      <td>NaN</td>\n",
       "      <td>NaN</td>\n",
       "      <td>NaN</td>\n",
       "      <td>NaN</td>\n",
       "    </tr>\n",
       "    <tr>\n",
       "      <th>0e5d7a658</th>\n",
       "      <td>0e5d7a658</td>\n",
       "      <td>67.0</td>\n",
       "      <td>NaN</td>\n",
       "      <td>67</td>\n",
       "      <td>67.0</td>\n",
       "      <td>67</td>\n",
       "      <td>0</td>\n",
       "      <td>NaN</td>\n",
       "      <td>NaN</td>\n",
       "      <td>NaN</td>\n",
       "      <td>...</td>\n",
       "      <td>NaN</td>\n",
       "      <td>NaN</td>\n",
       "      <td>NaN</td>\n",
       "      <td>NaN</td>\n",
       "      <td>NaN</td>\n",
       "      <td>NaN</td>\n",
       "      <td>NaN</td>\n",
       "      <td>NaN</td>\n",
       "      <td>NaN</td>\n",
       "      <td>NaN</td>\n",
       "    </tr>\n",
       "    <tr>\n",
       "      <th>2c7317ea8</th>\n",
       "      <td>2c7317ea8</td>\n",
       "      <td>92.0</td>\n",
       "      <td>NaN</td>\n",
       "      <td>92</td>\n",
       "      <td>92.0</td>\n",
       "      <td>92</td>\n",
       "      <td>0</td>\n",
       "      <td>NaN</td>\n",
       "      <td>NaN</td>\n",
       "      <td>NaN</td>\n",
       "      <td>...</td>\n",
       "      <td>NaN</td>\n",
       "      <td>NaN</td>\n",
       "      <td>NaN</td>\n",
       "      <td>NaN</td>\n",
       "      <td>NaN</td>\n",
       "      <td>NaN</td>\n",
       "      <td>NaN</td>\n",
       "      <td>NaN</td>\n",
       "      <td>NaN</td>\n",
       "      <td>NaN</td>\n",
       "    </tr>\n",
       "    <tr>\n",
       "      <th>2b58d945f</th>\n",
       "      <td>2b58d945f</td>\n",
       "      <td>25.0</td>\n",
       "      <td>14.899664</td>\n",
       "      <td>8</td>\n",
       "      <td>27.0</td>\n",
       "      <td>38</td>\n",
       "      <td>30</td>\n",
       "      <td>0.5</td>\n",
       "      <td>0.707107</td>\n",
       "      <td>0.0</td>\n",
       "      <td>...</td>\n",
       "      <td>8.0</td>\n",
       "      <td>12.5</td>\n",
       "      <td>17.0</td>\n",
       "      <td>9.0</td>\n",
       "      <td>0.5</td>\n",
       "      <td>0.707107</td>\n",
       "      <td>0.0</td>\n",
       "      <td>0.5</td>\n",
       "      <td>1.0</td>\n",
       "      <td>1.0</td>\n",
       "    </tr>\n",
       "    <tr>\n",
       "      <th>d6dae86b7</th>\n",
       "      <td>d6dae86b7</td>\n",
       "      <td>19.0</td>\n",
       "      <td>11.690452</td>\n",
       "      <td>7</td>\n",
       "      <td>19.5</td>\n",
       "      <td>30</td>\n",
       "      <td>23</td>\n",
       "      <td>0.5</td>\n",
       "      <td>0.707107</td>\n",
       "      <td>0.0</td>\n",
       "      <td>...</td>\n",
       "      <td>7.0</td>\n",
       "      <td>9.0</td>\n",
       "      <td>11.0</td>\n",
       "      <td>4.0</td>\n",
       "      <td>0.5</td>\n",
       "      <td>0.707107</td>\n",
       "      <td>0.0</td>\n",
       "      <td>0.5</td>\n",
       "      <td>1.0</td>\n",
       "      <td>1.0</td>\n",
       "    </tr>\n",
       "  </tbody>\n",
       "</table>\n",
       "<p>5 rows × 43 columns</p>\n",
       "</div>"
      ],
      "text/plain": [
       "             idhogar  all_age_mean  all_age_std  all_age_min  all_age_median  \\\n",
       "21eb7fcc1  21eb7fcc1          43.0          NaN           43            43.0   \n",
       "0e5d7a658  0e5d7a658          67.0          NaN           67            67.0   \n",
       "2c7317ea8  2c7317ea8          92.0          NaN           92            92.0   \n",
       "2b58d945f  2b58d945f          25.0    14.899664            8            27.0   \n",
       "d6dae86b7  d6dae86b7          19.0    11.690452            7            19.5   \n",
       "\n",
       "           all_age_max  all_age_range  all_rez_esc_mean  all_rez_esc_std  \\\n",
       "21eb7fcc1           43              0               NaN              NaN   \n",
       "0e5d7a658           67              0               NaN              NaN   \n",
       "2c7317ea8           92              0               NaN              NaN   \n",
       "2b58d945f           38             30               0.5         0.707107   \n",
       "d6dae86b7           30             23               0.5         0.707107   \n",
       "\n",
       "           all_rez_esc_min         ...           child_age_min  \\\n",
       "21eb7fcc1              NaN         ...                     NaN   \n",
       "0e5d7a658              NaN         ...                     NaN   \n",
       "2c7317ea8              NaN         ...                     NaN   \n",
       "2b58d945f              0.0         ...                     8.0   \n",
       "d6dae86b7              0.0         ...                     7.0   \n",
       "\n",
       "           child_age_median  child_age_max  child_age_range  \\\n",
       "21eb7fcc1               NaN            NaN              NaN   \n",
       "0e5d7a658               NaN            NaN              NaN   \n",
       "2c7317ea8               NaN            NaN              NaN   \n",
       "2b58d945f              12.5           17.0              9.0   \n",
       "d6dae86b7               9.0           11.0              4.0   \n",
       "\n",
       "           child_rez_esc_mean  child_rez_esc_std  child_rez_esc_min  \\\n",
       "21eb7fcc1                 NaN                NaN                NaN   \n",
       "0e5d7a658                 NaN                NaN                NaN   \n",
       "2c7317ea8                 NaN                NaN                NaN   \n",
       "2b58d945f                 0.5           0.707107                0.0   \n",
       "d6dae86b7                 0.5           0.707107                0.0   \n",
       "\n",
       "           child_rez_esc_median  child_rez_esc_max  child_rez_esc_range  \n",
       "21eb7fcc1                   NaN                NaN                  NaN  \n",
       "0e5d7a658                   NaN                NaN                  NaN  \n",
       "2c7317ea8                   NaN                NaN                  NaN  \n",
       "2b58d945f                   0.5                1.0                  1.0  \n",
       "d6dae86b7                   0.5                1.0                  1.0  \n",
       "\n",
       "[5 rows x 43 columns]"
      ]
     },
     "execution_count": 20,
     "metadata": {},
     "output_type": "execute_result"
    }
   ],
   "source": [
    "hogar_data.head()"
   ]
  },
  {
   "cell_type": "markdown",
   "metadata": {
    "_uuid": "cd08bf2458d052800fe8f671e3cfda2d2a9b80d8"
   },
   "source": [
    "* 大人の男女比率\n",
    "* 家族人数"
   ]
  },
  {
   "cell_type": "code",
   "execution_count": null,
   "metadata": {
    "_uuid": "541a198dfc3315e6bce6183969998ae4afe65707"
   },
   "outputs": [],
   "source": []
  },
  {
   "cell_type": "code",
   "execution_count": null,
   "metadata": {
    "_uuid": "d12db2337c7e06d18223d9dbfb6f249e64a12fd6"
   },
   "outputs": [],
   "source": []
  },
  {
   "cell_type": "markdown",
   "metadata": {
    "_uuid": "55b0e86aa4c10b87aea29e461aac91e5dafe8486"
   },
   "source": [
    "## Rent Prediction\n",
    "### Extract heads of household and tipovivi==3(Room for rent)"
   ]
  },
  {
   "cell_type": "code",
   "execution_count": 21,
   "metadata": {
    "_uuid": "d7a7790f7240d3ef1800f9fd1575c5bf300e3284"
   },
   "outputs": [
    {
     "data": {
      "text/plain": [
       "(1745, 52)"
      ]
     },
     "execution_count": 21,
     "metadata": {},
     "output_type": "execute_result"
    }
   ],
   "source": [
    "hh_data = all_data[all_data['parentesco']=='parentesco1']\n",
    "rent_data = hh_data[hh_data['tipovivi']=='tipovivi3']\n",
    "rent_data.shape"
   ]
  },
  {
   "cell_type": "markdown",
   "metadata": {
    "_uuid": "b9088544eb6801a431c8b33e22a1407c05b49859"
   },
   "source": [
    "## Pick up columns related to dwellings"
   ]
  },
  {
   "cell_type": "code",
   "execution_count": 22,
   "metadata": {
    "_uuid": "9b62b241b3f3001e375bee3d64da86f6321d2cfa"
   },
   "outputs": [],
   "source": [
    "rent_df_col_list = ['v2a1', 'rooms', 'cielorazo', 'idhogar',\n",
    "                     'bedrooms', 'pared', 'piso', 'techo',\n",
    "                     'abastagua', 'sanitario', 'energcocinar',\n",
    "                     'elimbasu', 'lugar', 'area',\n",
    "                     'electricity', 'epared', 'etecho', 'eviv']\n",
    "\n",
    "rent_df = rent_data[rent_df_col_list]\n",
    "\n",
    "rent_idhogar = rent_df['idhogar']\n",
    "rent_y = rent_df['v2a1']\n",
    "rent_X = rent_df.drop(['idhogar', 'v2a1'], axis=1)"
   ]
  },
  {
   "cell_type": "code",
   "execution_count": 23,
   "metadata": {
    "_uuid": "1d1178f123c6c5a77d2533e20f1d9568700b02f9"
   },
   "outputs": [],
   "source": [
    "params = {'num_leaves': 9, 'min_data_in_leaf': 4, 'max_depth': 6}\n",
    "gbm = lgb.LGBMRegressor(boosting_type='dart', objective='regression', random_state=0)\n",
    "gbm.set_params(**params)\n",
    "gbm.fit(rent_X, rent_y)\n",
    "pred_rent = gbm.predict(all_data[rent_df_col_list].drop(['idhogar', 'v2a1'], axis=1))"
   ]
  },
  {
   "cell_type": "markdown",
   "metadata": {
    "_uuid": "cf976c03d25d41b8ea09160786fd4db5048743e2"
   },
   "source": [
    "## Simple LightGBM"
   ]
  },
  {
   "cell_type": "markdown",
   "metadata": {
    "_uuid": "1099afc2a2baa567d40ae83625ea29772b91deb0"
   },
   "source": [
    "### Merge features"
   ]
  },
  {
   "cell_type": "code",
   "execution_count": 24,
   "metadata": {
    "_uuid": "182d75178f265c3797a99d770bd9ad7cc3edf43f"
   },
   "outputs": [],
   "source": [
    "# rent prediction\n",
    "all_data['pred_rent'] = pred_rent\n",
    "\n",
    "# aggregated household features\n",
    "all_data = pd.merge(all_data, hogar_data, on='idhogar', how='left')\n",
    "all_data.set_index('Id', drop=False, inplace=True)"
   ]
  },
  {
   "cell_type": "code",
   "execution_count": 25,
   "metadata": {
    "_uuid": "79581a974385c1b8e88843b7e8ab18e9dc6cb854"
   },
   "outputs": [],
   "source": [
    "train = all_data.loc[train.index]\n",
    "train['Target'] = train_target\n",
    "train = train[train['parentesco']=='parentesco1']\n",
    "train = train.drop('parentesco', axis=1)\n",
    "\n",
    "test = all_data.loc[test.index]\n",
    "test = test.drop('parentesco', axis=1)"
   ]
  },
  {
   "cell_type": "code",
   "execution_count": 26,
   "metadata": {
    "_uuid": "0d60bc2fc0b86b1c935865dea92c3a5f874f1d64",
    "scrolled": false
   },
   "outputs": [],
   "source": [
    "# Split data\n",
    "train_Id = train['Id'] # individual ID\n",
    "train_idhogar = train['idhogar'] # household ID\n",
    "train_y = train['Target'] # Target value\n",
    "train_X = train.drop(['Id', 'Target', 'idhogar'], axis=1) # features\n",
    "\n",
    "test_Id = test['Id'] # individual ID\n",
    "test_idhogar = test['idhogar'] # household ID\n",
    "test_X = test.drop(['Id', 'idhogar'], axis=1) # features\n",
    "\n",
    "# Union train and test\n",
    "# all_Id = pd.concat([train_Id, test_Id], axis=0, sort=False)\n",
    "# all_idhogar = pd.concat([train_idhogar, test_idhogar], axis=0, sort=False)\n",
    "# all_X = pd.concat([train_X, test_X], axis=0, sort=False)"
   ]
  },
  {
   "cell_type": "code",
   "execution_count": 27,
   "metadata": {
    "_uuid": "fabc3cfef991237f01fa3d85492531bfb75812fc"
   },
   "outputs": [],
   "source": [
    "def evaluate_macroF1_lgb(truth, predictions):  \n",
    "    # this follows the discussion in https://github.com/Microsoft/LightGBM/issues/1483\n",
    "    pred_labels = predictions.reshape(len(np.unique(truth)),-1).argmax(axis=0)\n",
    "    f1 = f1_score(truth, pred_labels, average='macro')\n",
    "    return ('macroF1', f1, True)"
   ]
  },
  {
   "cell_type": "code",
   "execution_count": 28,
   "metadata": {
    "_uuid": "ddc14d963f2d16e376f15d50557b848d0f9fd2ec",
    "scrolled": true
   },
   "outputs": [
    {
     "name": "stdout",
     "output_type": "stream",
     "text": [
      "[1]\ttrain's multi_logloss: 0.701658\ttrain's macroF1: 0.469343\tvalid's multi_logloss: 0.705717\tvalid's macroF1: 0.438321\n",
      "Training until validation scores don't improve for 30 rounds.\n",
      "[2]\ttrain's multi_logloss: 0.709511\ttrain's macroF1: 0.492119\tvalid's multi_logloss: 0.710279\tvalid's macroF1: 0.466812\n",
      "[3]\ttrain's multi_logloss: 0.720145\ttrain's macroF1: 0.502171\tvalid's multi_logloss: 0.724344\tvalid's macroF1: 0.444794\n",
      "[4]\ttrain's multi_logloss: 0.728507\ttrain's macroF1: 0.516695\tvalid's multi_logloss: 0.733993\tvalid's macroF1: 0.447958\n",
      "[5]\ttrain's multi_logloss: 0.737143\ttrain's macroF1: 0.529639\tvalid's multi_logloss: 0.74294\tvalid's macroF1: 0.467266\n",
      "[6]\ttrain's multi_logloss: 0.73464\ttrain's macroF1: 0.531987\tvalid's multi_logloss: 0.742644\tvalid's macroF1: 0.449095\n",
      "[7]\ttrain's multi_logloss: 0.743287\ttrain's macroF1: 0.540299\tvalid's multi_logloss: 0.752421\tvalid's macroF1: 0.45056\n",
      "[8]\ttrain's multi_logloss: 0.752005\ttrain's macroF1: 0.544741\tvalid's multi_logloss: 0.763834\tvalid's macroF1: 0.466938\n",
      "[9]\ttrain's multi_logloss: 0.758566\ttrain's macroF1: 0.549625\tvalid's multi_logloss: 0.775268\tvalid's macroF1: 0.448987\n",
      "[10]\ttrain's multi_logloss: 0.765492\ttrain's macroF1: 0.558584\tvalid's multi_logloss: 0.784635\tvalid's macroF1: 0.461354\n",
      "[11]\ttrain's multi_logloss: 0.771182\ttrain's macroF1: 0.56923\tvalid's multi_logloss: 0.795139\tvalid's macroF1: 0.476533\n",
      "[12]\ttrain's multi_logloss: 0.777768\ttrain's macroF1: 0.575886\tvalid's multi_logloss: 0.805704\tvalid's macroF1: 0.457535\n",
      "[13]\ttrain's multi_logloss: 0.783941\ttrain's macroF1: 0.580231\tvalid's multi_logloss: 0.815865\tvalid's macroF1: 0.458128\n",
      "[14]\ttrain's multi_logloss: 0.78767\ttrain's macroF1: 0.584116\tvalid's multi_logloss: 0.824206\tvalid's macroF1: 0.45529\n",
      "[15]\ttrain's multi_logloss: 0.786945\ttrain's macroF1: 0.58798\tvalid's multi_logloss: 0.823124\tvalid's macroF1: 0.461289\n",
      "[16]\ttrain's multi_logloss: 0.784423\ttrain's macroF1: 0.589655\tvalid's multi_logloss: 0.820305\tvalid's macroF1: 0.462138\n",
      "[17]\ttrain's multi_logloss: 0.773066\ttrain's macroF1: 0.592665\tvalid's multi_logloss: 0.808374\tvalid's macroF1: 0.441359\n",
      "[18]\ttrain's multi_logloss: 0.766433\ttrain's macroF1: 0.591624\tvalid's multi_logloss: 0.800955\tvalid's macroF1: 0.4521\n",
      "[19]\ttrain's multi_logloss: 0.758729\ttrain's macroF1: 0.592176\tvalid's multi_logloss: 0.79106\tvalid's macroF1: 0.446076\n",
      "[20]\ttrain's multi_logloss: 0.765484\ttrain's macroF1: 0.595382\tvalid's multi_logloss: 0.802457\tvalid's macroF1: 0.453857\n",
      "[21]\ttrain's multi_logloss: 0.761652\ttrain's macroF1: 0.594586\tvalid's multi_logloss: 0.798765\tvalid's macroF1: 0.458439\n",
      "[22]\ttrain's multi_logloss: 0.761263\ttrain's macroF1: 0.596358\tvalid's multi_logloss: 0.80122\tvalid's macroF1: 0.435468\n",
      "[23]\ttrain's multi_logloss: 0.76125\ttrain's macroF1: 0.592952\tvalid's multi_logloss: 0.80164\tvalid's macroF1: 0.445141\n",
      "[24]\ttrain's multi_logloss: 0.767055\ttrain's macroF1: 0.595918\tvalid's multi_logloss: 0.813568\tvalid's macroF1: 0.445104\n",
      "[25]\ttrain's multi_logloss: 0.765023\ttrain's macroF1: 0.59897\tvalid's multi_logloss: 0.810364\tvalid's macroF1: 0.447166\n",
      "[26]\ttrain's multi_logloss: 0.770368\ttrain's macroF1: 0.595927\tvalid's multi_logloss: 0.819125\tvalid's macroF1: 0.458923\n",
      "[27]\ttrain's multi_logloss: 0.766062\ttrain's macroF1: 0.600662\tvalid's multi_logloss: 0.8123\tvalid's macroF1: 0.467932\n",
      "[28]\ttrain's multi_logloss: 0.763015\ttrain's macroF1: 0.60095\tvalid's multi_logloss: 0.807678\tvalid's macroF1: 0.465976\n",
      "[29]\ttrain's multi_logloss: 0.768919\ttrain's macroF1: 0.604295\tvalid's multi_logloss: 0.818969\tvalid's macroF1: 0.453258\n",
      "[30]\ttrain's multi_logloss: 0.772675\ttrain's macroF1: 0.608677\tvalid's multi_logloss: 0.829613\tvalid's macroF1: 0.448993\n",
      "[31]\ttrain's multi_logloss: 0.769034\ttrain's macroF1: 0.609272\tvalid's multi_logloss: 0.825199\tvalid's macroF1: 0.441389\n",
      "Early stopping, best iteration is:\n",
      "[1]\ttrain's multi_logloss: 0.701658\ttrain's macroF1: 0.469343\tvalid's multi_logloss: 0.705717\tvalid's macroF1: 0.438321\n"
     ]
    },
    {
     "name": "stderr",
     "output_type": "stream",
     "text": [
      "C:\\Users\\hiroshi_kuriyama\\AppData\\Local\\conda\\conda\\envs\\kaggle_poverty_level\\lib\\site-packages\\sklearn\\preprocessing\\label.py:151: DeprecationWarning: The truth value of an empty array is ambiguous. Returning False, but in future this will result in an error. Use `array.size > 0` to check that an array is not empty.\n",
      "  if diff:\n",
      "C:\\Users\\hiroshi_kuriyama\\AppData\\Local\\conda\\conda\\envs\\kaggle_poverty_level\\lib\\site-packages\\sklearn\\preprocessing\\label.py:151: DeprecationWarning: The truth value of an empty array is ambiguous. Returning False, but in future this will result in an error. Use `array.size > 0` to check that an array is not empty.\n",
      "  if diff:\n"
     ]
    },
    {
     "ename": "ValueError",
     "evalue": "y contains new labels: [0]",
     "output_type": "error",
     "traceback": [
      "\u001b[1;31m---------------------------------------------------------------------------\u001b[0m",
      "\u001b[1;31mValueError\u001b[0m                                Traceback (most recent call last)",
      "\u001b[1;32m<ipython-input-28-01767fd19ecd>\u001b[0m in \u001b[0;36m<module>\u001b[1;34m()\u001b[0m\n\u001b[0;32m     34\u001b[0m \u001b[1;31m# gbm.set_params(**params)\u001b[0m\u001b[1;33m\u001b[0m\u001b[1;33m\u001b[0m\u001b[0m\n\u001b[0;32m     35\u001b[0m \u001b[1;33m\u001b[0m\u001b[0m\n\u001b[1;32m---> 36\u001b[1;33m \u001b[0mgbm\u001b[0m\u001b[1;33m.\u001b[0m\u001b[0mfit\u001b[0m\u001b[1;33m(\u001b[0m\u001b[0mX_train\u001b[0m\u001b[1;33m,\u001b[0m \u001b[0my_train\u001b[0m\u001b[1;33m,\u001b[0m \u001b[1;33m**\u001b[0m\u001b[0mfit_params\u001b[0m\u001b[1;33m)\u001b[0m\u001b[1;33m\u001b[0m\u001b[0m\n\u001b[0m\u001b[0;32m     37\u001b[0m \u001b[1;31m# gbm.best_params_\u001b[0m\u001b[1;33m\u001b[0m\u001b[1;33m\u001b[0m\u001b[0m\n",
      "\u001b[1;32m~\\AppData\\Local\\conda\\conda\\envs\\kaggle_poverty_level\\lib\\site-packages\\sklearn\\model_selection\\_search.py\u001b[0m in \u001b[0;36mfit\u001b[1;34m(self, X, y, groups, **fit_params)\u001b[0m\n\u001b[0;32m    638\u001b[0m                                   error_score=self.error_score)\n\u001b[0;32m    639\u001b[0m           for parameters, (train, test) in product(candidate_params,\n\u001b[1;32m--> 640\u001b[1;33m                                                    cv.split(X, y, groups)))\n\u001b[0m\u001b[0;32m    641\u001b[0m \u001b[1;33m\u001b[0m\u001b[0m\n\u001b[0;32m    642\u001b[0m         \u001b[1;31m# if one choose to see train score, \"out\" will contain train score info\u001b[0m\u001b[1;33m\u001b[0m\u001b[1;33m\u001b[0m\u001b[0m\n",
      "\u001b[1;32m~\\AppData\\Local\\conda\\conda\\envs\\kaggle_poverty_level\\lib\\site-packages\\sklearn\\externals\\joblib\\parallel.py\u001b[0m in \u001b[0;36m__call__\u001b[1;34m(self, iterable)\u001b[0m\n\u001b[0;32m    777\u001b[0m             \u001b[1;31m# was dispatched. In particular this covers the edge\u001b[0m\u001b[1;33m\u001b[0m\u001b[1;33m\u001b[0m\u001b[0m\n\u001b[0;32m    778\u001b[0m             \u001b[1;31m# case of Parallel used with an exhausted iterator.\u001b[0m\u001b[1;33m\u001b[0m\u001b[1;33m\u001b[0m\u001b[0m\n\u001b[1;32m--> 779\u001b[1;33m             \u001b[1;32mwhile\u001b[0m \u001b[0mself\u001b[0m\u001b[1;33m.\u001b[0m\u001b[0mdispatch_one_batch\u001b[0m\u001b[1;33m(\u001b[0m\u001b[0miterator\u001b[0m\u001b[1;33m)\u001b[0m\u001b[1;33m:\u001b[0m\u001b[1;33m\u001b[0m\u001b[0m\n\u001b[0m\u001b[0;32m    780\u001b[0m                 \u001b[0mself\u001b[0m\u001b[1;33m.\u001b[0m\u001b[0m_iterating\u001b[0m \u001b[1;33m=\u001b[0m \u001b[1;32mTrue\u001b[0m\u001b[1;33m\u001b[0m\u001b[0m\n\u001b[0;32m    781\u001b[0m             \u001b[1;32melse\u001b[0m\u001b[1;33m:\u001b[0m\u001b[1;33m\u001b[0m\u001b[0m\n",
      "\u001b[1;32m~\\AppData\\Local\\conda\\conda\\envs\\kaggle_poverty_level\\lib\\site-packages\\sklearn\\externals\\joblib\\parallel.py\u001b[0m in \u001b[0;36mdispatch_one_batch\u001b[1;34m(self, iterator)\u001b[0m\n\u001b[0;32m    623\u001b[0m                 \u001b[1;32mreturn\u001b[0m \u001b[1;32mFalse\u001b[0m\u001b[1;33m\u001b[0m\u001b[0m\n\u001b[0;32m    624\u001b[0m             \u001b[1;32melse\u001b[0m\u001b[1;33m:\u001b[0m\u001b[1;33m\u001b[0m\u001b[0m\n\u001b[1;32m--> 625\u001b[1;33m                 \u001b[0mself\u001b[0m\u001b[1;33m.\u001b[0m\u001b[0m_dispatch\u001b[0m\u001b[1;33m(\u001b[0m\u001b[0mtasks\u001b[0m\u001b[1;33m)\u001b[0m\u001b[1;33m\u001b[0m\u001b[0m\n\u001b[0m\u001b[0;32m    626\u001b[0m                 \u001b[1;32mreturn\u001b[0m \u001b[1;32mTrue\u001b[0m\u001b[1;33m\u001b[0m\u001b[0m\n\u001b[0;32m    627\u001b[0m \u001b[1;33m\u001b[0m\u001b[0m\n",
      "\u001b[1;32m~\\AppData\\Local\\conda\\conda\\envs\\kaggle_poverty_level\\lib\\site-packages\\sklearn\\externals\\joblib\\parallel.py\u001b[0m in \u001b[0;36m_dispatch\u001b[1;34m(self, batch)\u001b[0m\n\u001b[0;32m    586\u001b[0m         \u001b[0mdispatch_timestamp\u001b[0m \u001b[1;33m=\u001b[0m \u001b[0mtime\u001b[0m\u001b[1;33m.\u001b[0m\u001b[0mtime\u001b[0m\u001b[1;33m(\u001b[0m\u001b[1;33m)\u001b[0m\u001b[1;33m\u001b[0m\u001b[0m\n\u001b[0;32m    587\u001b[0m         \u001b[0mcb\u001b[0m \u001b[1;33m=\u001b[0m \u001b[0mBatchCompletionCallBack\u001b[0m\u001b[1;33m(\u001b[0m\u001b[0mdispatch_timestamp\u001b[0m\u001b[1;33m,\u001b[0m \u001b[0mlen\u001b[0m\u001b[1;33m(\u001b[0m\u001b[0mbatch\u001b[0m\u001b[1;33m)\u001b[0m\u001b[1;33m,\u001b[0m \u001b[0mself\u001b[0m\u001b[1;33m)\u001b[0m\u001b[1;33m\u001b[0m\u001b[0m\n\u001b[1;32m--> 588\u001b[1;33m         \u001b[0mjob\u001b[0m \u001b[1;33m=\u001b[0m \u001b[0mself\u001b[0m\u001b[1;33m.\u001b[0m\u001b[0m_backend\u001b[0m\u001b[1;33m.\u001b[0m\u001b[0mapply_async\u001b[0m\u001b[1;33m(\u001b[0m\u001b[0mbatch\u001b[0m\u001b[1;33m,\u001b[0m \u001b[0mcallback\u001b[0m\u001b[1;33m=\u001b[0m\u001b[0mcb\u001b[0m\u001b[1;33m)\u001b[0m\u001b[1;33m\u001b[0m\u001b[0m\n\u001b[0m\u001b[0;32m    589\u001b[0m         \u001b[0mself\u001b[0m\u001b[1;33m.\u001b[0m\u001b[0m_jobs\u001b[0m\u001b[1;33m.\u001b[0m\u001b[0mappend\u001b[0m\u001b[1;33m(\u001b[0m\u001b[0mjob\u001b[0m\u001b[1;33m)\u001b[0m\u001b[1;33m\u001b[0m\u001b[0m\n\u001b[0;32m    590\u001b[0m \u001b[1;33m\u001b[0m\u001b[0m\n",
      "\u001b[1;32m~\\AppData\\Local\\conda\\conda\\envs\\kaggle_poverty_level\\lib\\site-packages\\sklearn\\externals\\joblib\\_parallel_backends.py\u001b[0m in \u001b[0;36mapply_async\u001b[1;34m(self, func, callback)\u001b[0m\n\u001b[0;32m    109\u001b[0m     \u001b[1;32mdef\u001b[0m \u001b[0mapply_async\u001b[0m\u001b[1;33m(\u001b[0m\u001b[0mself\u001b[0m\u001b[1;33m,\u001b[0m \u001b[0mfunc\u001b[0m\u001b[1;33m,\u001b[0m \u001b[0mcallback\u001b[0m\u001b[1;33m=\u001b[0m\u001b[1;32mNone\u001b[0m\u001b[1;33m)\u001b[0m\u001b[1;33m:\u001b[0m\u001b[1;33m\u001b[0m\u001b[0m\n\u001b[0;32m    110\u001b[0m         \u001b[1;34m\"\"\"Schedule a func to be run\"\"\"\u001b[0m\u001b[1;33m\u001b[0m\u001b[0m\n\u001b[1;32m--> 111\u001b[1;33m         \u001b[0mresult\u001b[0m \u001b[1;33m=\u001b[0m \u001b[0mImmediateResult\u001b[0m\u001b[1;33m(\u001b[0m\u001b[0mfunc\u001b[0m\u001b[1;33m)\u001b[0m\u001b[1;33m\u001b[0m\u001b[0m\n\u001b[0m\u001b[0;32m    112\u001b[0m         \u001b[1;32mif\u001b[0m \u001b[0mcallback\u001b[0m\u001b[1;33m:\u001b[0m\u001b[1;33m\u001b[0m\u001b[0m\n\u001b[0;32m    113\u001b[0m             \u001b[0mcallback\u001b[0m\u001b[1;33m(\u001b[0m\u001b[0mresult\u001b[0m\u001b[1;33m)\u001b[0m\u001b[1;33m\u001b[0m\u001b[0m\n",
      "\u001b[1;32m~\\AppData\\Local\\conda\\conda\\envs\\kaggle_poverty_level\\lib\\site-packages\\sklearn\\externals\\joblib\\_parallel_backends.py\u001b[0m in \u001b[0;36m__init__\u001b[1;34m(self, batch)\u001b[0m\n\u001b[0;32m    330\u001b[0m         \u001b[1;31m# Don't delay the application, to avoid keeping the input\u001b[0m\u001b[1;33m\u001b[0m\u001b[1;33m\u001b[0m\u001b[0m\n\u001b[0;32m    331\u001b[0m         \u001b[1;31m# arguments in memory\u001b[0m\u001b[1;33m\u001b[0m\u001b[1;33m\u001b[0m\u001b[0m\n\u001b[1;32m--> 332\u001b[1;33m         \u001b[0mself\u001b[0m\u001b[1;33m.\u001b[0m\u001b[0mresults\u001b[0m \u001b[1;33m=\u001b[0m \u001b[0mbatch\u001b[0m\u001b[1;33m(\u001b[0m\u001b[1;33m)\u001b[0m\u001b[1;33m\u001b[0m\u001b[0m\n\u001b[0m\u001b[0;32m    333\u001b[0m \u001b[1;33m\u001b[0m\u001b[0m\n\u001b[0;32m    334\u001b[0m     \u001b[1;32mdef\u001b[0m \u001b[0mget\u001b[0m\u001b[1;33m(\u001b[0m\u001b[0mself\u001b[0m\u001b[1;33m)\u001b[0m\u001b[1;33m:\u001b[0m\u001b[1;33m\u001b[0m\u001b[0m\n",
      "\u001b[1;32m~\\AppData\\Local\\conda\\conda\\envs\\kaggle_poverty_level\\lib\\site-packages\\sklearn\\externals\\joblib\\parallel.py\u001b[0m in \u001b[0;36m__call__\u001b[1;34m(self)\u001b[0m\n\u001b[0;32m    129\u001b[0m \u001b[1;33m\u001b[0m\u001b[0m\n\u001b[0;32m    130\u001b[0m     \u001b[1;32mdef\u001b[0m \u001b[0m__call__\u001b[0m\u001b[1;33m(\u001b[0m\u001b[0mself\u001b[0m\u001b[1;33m)\u001b[0m\u001b[1;33m:\u001b[0m\u001b[1;33m\u001b[0m\u001b[0m\n\u001b[1;32m--> 131\u001b[1;33m         \u001b[1;32mreturn\u001b[0m \u001b[1;33m[\u001b[0m\u001b[0mfunc\u001b[0m\u001b[1;33m(\u001b[0m\u001b[1;33m*\u001b[0m\u001b[0margs\u001b[0m\u001b[1;33m,\u001b[0m \u001b[1;33m**\u001b[0m\u001b[0mkwargs\u001b[0m\u001b[1;33m)\u001b[0m \u001b[1;32mfor\u001b[0m \u001b[0mfunc\u001b[0m\u001b[1;33m,\u001b[0m \u001b[0margs\u001b[0m\u001b[1;33m,\u001b[0m \u001b[0mkwargs\u001b[0m \u001b[1;32min\u001b[0m \u001b[0mself\u001b[0m\u001b[1;33m.\u001b[0m\u001b[0mitems\u001b[0m\u001b[1;33m]\u001b[0m\u001b[1;33m\u001b[0m\u001b[0m\n\u001b[0m\u001b[0;32m    132\u001b[0m \u001b[1;33m\u001b[0m\u001b[0m\n\u001b[0;32m    133\u001b[0m     \u001b[1;32mdef\u001b[0m \u001b[0m__len__\u001b[0m\u001b[1;33m(\u001b[0m\u001b[0mself\u001b[0m\u001b[1;33m)\u001b[0m\u001b[1;33m:\u001b[0m\u001b[1;33m\u001b[0m\u001b[0m\n",
      "\u001b[1;32m~\\AppData\\Local\\conda\\conda\\envs\\kaggle_poverty_level\\lib\\site-packages\\sklearn\\externals\\joblib\\parallel.py\u001b[0m in \u001b[0;36m<listcomp>\u001b[1;34m(.0)\u001b[0m\n\u001b[0;32m    129\u001b[0m \u001b[1;33m\u001b[0m\u001b[0m\n\u001b[0;32m    130\u001b[0m     \u001b[1;32mdef\u001b[0m \u001b[0m__call__\u001b[0m\u001b[1;33m(\u001b[0m\u001b[0mself\u001b[0m\u001b[1;33m)\u001b[0m\u001b[1;33m:\u001b[0m\u001b[1;33m\u001b[0m\u001b[0m\n\u001b[1;32m--> 131\u001b[1;33m         \u001b[1;32mreturn\u001b[0m \u001b[1;33m[\u001b[0m\u001b[0mfunc\u001b[0m\u001b[1;33m(\u001b[0m\u001b[1;33m*\u001b[0m\u001b[0margs\u001b[0m\u001b[1;33m,\u001b[0m \u001b[1;33m**\u001b[0m\u001b[0mkwargs\u001b[0m\u001b[1;33m)\u001b[0m \u001b[1;32mfor\u001b[0m \u001b[0mfunc\u001b[0m\u001b[1;33m,\u001b[0m \u001b[0margs\u001b[0m\u001b[1;33m,\u001b[0m \u001b[0mkwargs\u001b[0m \u001b[1;32min\u001b[0m \u001b[0mself\u001b[0m\u001b[1;33m.\u001b[0m\u001b[0mitems\u001b[0m\u001b[1;33m]\u001b[0m\u001b[1;33m\u001b[0m\u001b[0m\n\u001b[0m\u001b[0;32m    132\u001b[0m \u001b[1;33m\u001b[0m\u001b[0m\n\u001b[0;32m    133\u001b[0m     \u001b[1;32mdef\u001b[0m \u001b[0m__len__\u001b[0m\u001b[1;33m(\u001b[0m\u001b[0mself\u001b[0m\u001b[1;33m)\u001b[0m\u001b[1;33m:\u001b[0m\u001b[1;33m\u001b[0m\u001b[0m\n",
      "\u001b[1;32m~\\AppData\\Local\\conda\\conda\\envs\\kaggle_poverty_level\\lib\\site-packages\\sklearn\\model_selection\\_validation.py\u001b[0m in \u001b[0;36m_fit_and_score\u001b[1;34m(estimator, X, y, scorer, train, test, verbose, parameters, fit_params, return_train_score, return_parameters, return_n_test_samples, return_times, error_score)\u001b[0m\n\u001b[0;32m    456\u001b[0m             \u001b[0mestimator\u001b[0m\u001b[1;33m.\u001b[0m\u001b[0mfit\u001b[0m\u001b[1;33m(\u001b[0m\u001b[0mX_train\u001b[0m\u001b[1;33m,\u001b[0m \u001b[1;33m**\u001b[0m\u001b[0mfit_params\u001b[0m\u001b[1;33m)\u001b[0m\u001b[1;33m\u001b[0m\u001b[0m\n\u001b[0;32m    457\u001b[0m         \u001b[1;32melse\u001b[0m\u001b[1;33m:\u001b[0m\u001b[1;33m\u001b[0m\u001b[0m\n\u001b[1;32m--> 458\u001b[1;33m             \u001b[0mestimator\u001b[0m\u001b[1;33m.\u001b[0m\u001b[0mfit\u001b[0m\u001b[1;33m(\u001b[0m\u001b[0mX_train\u001b[0m\u001b[1;33m,\u001b[0m \u001b[0my_train\u001b[0m\u001b[1;33m,\u001b[0m \u001b[1;33m**\u001b[0m\u001b[0mfit_params\u001b[0m\u001b[1;33m)\u001b[0m\u001b[1;33m\u001b[0m\u001b[0m\n\u001b[0m\u001b[0;32m    459\u001b[0m \u001b[1;33m\u001b[0m\u001b[0m\n\u001b[0;32m    460\u001b[0m     \u001b[1;32mexcept\u001b[0m \u001b[0mException\u001b[0m \u001b[1;32mas\u001b[0m \u001b[0me\u001b[0m\u001b[1;33m:\u001b[0m\u001b[1;33m\u001b[0m\u001b[0m\n",
      "\u001b[1;32m~\\AppData\\Local\\conda\\conda\\envs\\kaggle_poverty_level\\lib\\site-packages\\lightgbm\\sklearn.py\u001b[0m in \u001b[0;36mfit\u001b[1;34m(self, X, y, sample_weight, init_score, eval_set, eval_names, eval_sample_weight, eval_class_weight, eval_init_score, eval_metric, early_stopping_rounds, verbose, feature_name, categorical_feature, callbacks)\u001b[0m\n\u001b[0;32m    681\u001b[0m                     \u001b[0meval_set\u001b[0m\u001b[1;33m[\u001b[0m\u001b[0mi\u001b[0m\u001b[1;33m]\u001b[0m \u001b[1;33m=\u001b[0m \u001b[1;33m(\u001b[0m\u001b[0mvalid_x\u001b[0m\u001b[1;33m,\u001b[0m \u001b[0m_y\u001b[0m\u001b[1;33m)\u001b[0m\u001b[1;33m\u001b[0m\u001b[0m\n\u001b[0;32m    682\u001b[0m                 \u001b[1;32melse\u001b[0m\u001b[1;33m:\u001b[0m\u001b[1;33m\u001b[0m\u001b[0m\n\u001b[1;32m--> 683\u001b[1;33m                     \u001b[0meval_set\u001b[0m\u001b[1;33m[\u001b[0m\u001b[0mi\u001b[0m\u001b[1;33m]\u001b[0m \u001b[1;33m=\u001b[0m \u001b[1;33m(\u001b[0m\u001b[0mvalid_x\u001b[0m\u001b[1;33m,\u001b[0m \u001b[0mself\u001b[0m\u001b[1;33m.\u001b[0m\u001b[0m_le\u001b[0m\u001b[1;33m.\u001b[0m\u001b[0mtransform\u001b[0m\u001b[1;33m(\u001b[0m\u001b[0mvalid_y\u001b[0m\u001b[1;33m)\u001b[0m\u001b[1;33m)\u001b[0m\u001b[1;33m\u001b[0m\u001b[0m\n\u001b[0m\u001b[0;32m    684\u001b[0m \u001b[1;33m\u001b[0m\u001b[0m\n\u001b[0;32m    685\u001b[0m         super(LGBMClassifier, self).fit(X, _y, sample_weight=sample_weight,\n",
      "\u001b[1;32m~\\AppData\\Local\\conda\\conda\\envs\\kaggle_poverty_level\\lib\\site-packages\\sklearn\\preprocessing\\label.py\u001b[0m in \u001b[0;36mtransform\u001b[1;34m(self, y)\u001b[0m\n\u001b[0;32m    131\u001b[0m         \u001b[1;32mif\u001b[0m \u001b[0mlen\u001b[0m\u001b[1;33m(\u001b[0m\u001b[0mnp\u001b[0m\u001b[1;33m.\u001b[0m\u001b[0mintersect1d\u001b[0m\u001b[1;33m(\u001b[0m\u001b[0mclasses\u001b[0m\u001b[1;33m,\u001b[0m \u001b[0mself\u001b[0m\u001b[1;33m.\u001b[0m\u001b[0mclasses_\u001b[0m\u001b[1;33m)\u001b[0m\u001b[1;33m)\u001b[0m \u001b[1;33m<\u001b[0m \u001b[0mlen\u001b[0m\u001b[1;33m(\u001b[0m\u001b[0mclasses\u001b[0m\u001b[1;33m)\u001b[0m\u001b[1;33m:\u001b[0m\u001b[1;33m\u001b[0m\u001b[0m\n\u001b[0;32m    132\u001b[0m             \u001b[0mdiff\u001b[0m \u001b[1;33m=\u001b[0m \u001b[0mnp\u001b[0m\u001b[1;33m.\u001b[0m\u001b[0msetdiff1d\u001b[0m\u001b[1;33m(\u001b[0m\u001b[0mclasses\u001b[0m\u001b[1;33m,\u001b[0m \u001b[0mself\u001b[0m\u001b[1;33m.\u001b[0m\u001b[0mclasses_\u001b[0m\u001b[1;33m)\u001b[0m\u001b[1;33m\u001b[0m\u001b[0m\n\u001b[1;32m--> 133\u001b[1;33m             \u001b[1;32mraise\u001b[0m \u001b[0mValueError\u001b[0m\u001b[1;33m(\u001b[0m\u001b[1;34m\"y contains new labels: %s\"\u001b[0m \u001b[1;33m%\u001b[0m \u001b[0mstr\u001b[0m\u001b[1;33m(\u001b[0m\u001b[0mdiff\u001b[0m\u001b[1;33m)\u001b[0m\u001b[1;33m)\u001b[0m\u001b[1;33m\u001b[0m\u001b[0m\n\u001b[0m\u001b[0;32m    134\u001b[0m         \u001b[1;32mreturn\u001b[0m \u001b[0mnp\u001b[0m\u001b[1;33m.\u001b[0m\u001b[0msearchsorted\u001b[0m\u001b[1;33m(\u001b[0m\u001b[0mself\u001b[0m\u001b[1;33m.\u001b[0m\u001b[0mclasses_\u001b[0m\u001b[1;33m,\u001b[0m \u001b[0my\u001b[0m\u001b[1;33m)\u001b[0m\u001b[1;33m\u001b[0m\u001b[0m\n\u001b[0;32m    135\u001b[0m \u001b[1;33m\u001b[0m\u001b[0m\n",
      "\u001b[1;31mValueError\u001b[0m: y contains new labels: [0]"
     ]
    }
   ],
   "source": [
    "from sklearn.model_selection import train_test_split, GridSearchCV\n",
    "from sklearn.metrics import confusion_matrix, f1_score, make_scorer\n",
    "import lightgbm as lgb\n",
    "\n",
    "X_train, X_test, y_train, y_test = train_test_split(train_X, train_y, test_size=0.1, random_state=0)\n",
    "\n",
    "F1_scorer = make_scorer(f1_score, greater_is_better=True, average='macro')\n",
    "\n",
    "fit_params={\n",
    "    \"early_stopping_rounds\":30,\n",
    "    \"eval_metric\" : evaluate_macroF1_lgb, \n",
    "    \"eval_set\" : [(X_train,y_train), (X_test,y_test)],\n",
    "    'eval_names': ['train', 'valid'],\n",
    "#     'verbose': False,\n",
    "    'categorical_feature': 'auto'\n",
    "}\n",
    "gbm_param = {\n",
    "    'num_leaves':[14]\n",
    "    ,'min_data_in_leaf':[13]\n",
    "    ,'max_depth':[7]\n",
    "}\n",
    "gbm = GridSearchCV(\n",
    "    lgb.LGBMClassifier(objective='multiclassova', boosting_type='dart', class_weight='balanced', seed=0)\n",
    "    , gbm_param\n",
    "    , scoring=F1_scorer\n",
    "#     , fit_params=fit_params\n",
    "    , cv=3\n",
    ")\n",
    "\n",
    "\n",
    "# params = {'num_leaves': 14, 'min_data_in_leaf': 13, 'max_depth': 7, 'learning_rate': 0.09, 'feature_fraction': 0.74}\n",
    "# fit_params = {\"early_stopping_rounds\": 30, \"eval_set\": [[X_test, y_test]]}\n",
    "# gbm = lgb.LGBMClassifier(objective='multiclassova', boosting_type='dart', class_weight='balanced', random_state=0)\n",
    "# gbm.set_params(**params)\n",
    "\n",
    "gbm.fit(X_train, y_train, **fit_params)\n",
    "# gbm.best_params_"
   ]
  },
  {
   "cell_type": "code",
   "execution_count": null,
   "metadata": {
    "_uuid": "b6686e71c65137a5c9dfcb19aae96a8e08812d95"
   },
   "outputs": [],
   "source": [
    "train_y.unique()"
   ]
  },
  {
   "cell_type": "code",
   "execution_count": null,
   "metadata": {
    "_uuid": "fca89a6d3c8db6d81c47affb23117203d78a334c"
   },
   "outputs": [],
   "source": [
    "feature_imp = pd.DataFrame({\n",
    "    'features'  : X_train.columns,\n",
    "    'importance': gbm.feature_importances_\n",
    "    },\n",
    "    index=X_train.columns)\n",
    "feature_imp.sort_values('importance', ascending=False, inplace=True)\n",
    "# feature_imp.sort_values('importance', ascending=False).plot(kind='bar')"
   ]
  },
  {
   "cell_type": "code",
   "execution_count": null,
   "metadata": {
    "_uuid": "aebf92306f1fc719a1c69aefced564be4790f30a"
   },
   "outputs": [],
   "source": [
    "fig, ax = plt.subplots(figsize=(15, 5))\n",
    "ax.bar(feature_imp['features'], feature_imp['importance'])\n",
    "plt.xticks(rotation=90)\n",
    "plt.show()"
   ]
  },
  {
   "cell_type": "code",
   "execution_count": null,
   "metadata": {
    "_uuid": "458423a2b5c5151f1fb397c98cf3f2cc6a6d251a"
   },
   "outputs": [],
   "source": [
    "import pickle\n",
    "with open(os.path.join(working_dir, '20180901_lgbm_rent_agg_hogar.pickle'), mode='wb') as f:\n",
    "    pickle.dump(gbm, f)"
   ]
  },
  {
   "cell_type": "code",
   "execution_count": null,
   "metadata": {
    "_uuid": "6e133dcb8f8c1eadf0503e3c5338c09fe89ce449"
   },
   "outputs": [],
   "source": [
    "y_test_pred = gbm.predict(X_test)\n",
    "cm = confusion_matrix(y_test, y_test_pred)\n",
    "cm_df_columns = ['pred_'+str(i) for i in range(cm.shape[0])]\n",
    "cm_df_index = ['true_'+str(i) for i in range(cm.shape[0])]\n",
    "cm_df = pd.DataFrame(data=cm, columns=cm_df_columns, index=cm_df_index)\n",
    "f1 = f1_score(y_test, y_test_pred, average='macro')\n",
    "print(\"confusion matrix: \\n\", cm_df)\n",
    "print(\"macro F1 score: \\n\", f1)"
   ]
  },
  {
   "cell_type": "code",
   "execution_count": null,
   "metadata": {
    "_uuid": "4cf36dc0a7f27dd680725f948d0ff809cbf07b49"
   },
   "outputs": [],
   "source": [
    "gbm = lgb.LGBMClassifier(objective='multiclassova', class_weight='balanced', random_state=0)\n",
    "gbm.set_params(**params)\n",
    "gbm.fit(train_X, train_y)"
   ]
  },
  {
   "cell_type": "code",
   "execution_count": null,
   "metadata": {
    "_uuid": "2e25bb77387bb8c9773930f3f06871bdd70413d0"
   },
   "outputs": [],
   "source": [
    "pred = gbm.predict(test_X)\n",
    "pred = pd.Series(data=pred, index=test_Id.values, name='Target')\n",
    "pred = pd.concat([test_Id, pred], axis=1, join_axes=[test_Id.index])\n",
    "pred.to_csv('20180901_lgbm_rent_agg_hogar.csv', index=False)"
   ]
  },
  {
   "cell_type": "code",
   "execution_count": null,
   "metadata": {
    "_uuid": "5599ec9c4675841a86a980de352dbb4792ff652e"
   },
   "outputs": [],
   "source": []
  }
 ],
 "metadata": {
  "kernelspec": {
   "display_name": "Python 3",
   "language": "python",
   "name": "python3"
  },
  "language_info": {
   "codemirror_mode": {
    "name": "ipython",
    "version": 3
   },
   "file_extension": ".py",
   "mimetype": "text/x-python",
   "name": "python",
   "nbconvert_exporter": "python",
   "pygments_lexer": "ipython3",
   "version": "3.7.0"
  }
 },
 "nbformat": 4,
 "nbformat_minor": 2
}
