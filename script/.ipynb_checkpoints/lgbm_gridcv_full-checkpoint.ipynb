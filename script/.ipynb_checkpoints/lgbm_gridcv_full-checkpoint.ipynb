{
  "cells": [
    {
      "metadata": {
        "_uuid": "be166bb18179af2a0d5c3e88d4637fe4c8d6bdd1"
      },
      "cell_type": "markdown",
      "source": "# LightGBM Grid Search CV"
    },
    {
      "metadata": {
        "_cell_guid": "79c7e3d0-c299-4dcb-8224-4455121ee9b0",
        "collapsed": true,
        "_uuid": "d629ff2d2480ee46fbb7e2d37f6b5fab8052498a",
        "trusted": true
      },
      "cell_type": "code",
      "source": "input_dir = '../input/'\nworking_dir = '../working/'",
      "execution_count": 1,
      "outputs": []
    },
    {
      "metadata": {
        "trusted": true,
        "collapsed": true,
        "_uuid": "284b8ba887f0f577249002f93bdf7e7c116e9129"
      },
      "cell_type": "code",
      "source": "import os\nimport numpy as np\nimport pandas as pd\nimport matplotlib.pyplot as plt\n%matplotlib inline",
      "execution_count": 2,
      "outputs": []
    },
    {
      "metadata": {
        "trusted": true,
        "_uuid": "75297b7b6961dded5389765cf5b78599dcd0e950"
      },
      "cell_type": "code",
      "source": "train = pd.read_csv(os.path.join(input_dir, 'train.csv'))\ntest = pd.read_csv(os.path.join(input_dir, 'test.csv'))\nprint(train.shape)\nprint(test.shape)",
      "execution_count": 3,
      "outputs": [
        {
          "output_type": "stream",
          "text": "(9557, 143)\n(23856, 142)\n",
          "name": "stdout"
        }
      ]
    },
    {
      "metadata": {
        "trusted": true,
        "_uuid": "41c7b4cde1bf39e2b7d12c8fc1ecc9e07fb08fbc",
        "collapsed": true
      },
      "cell_type": "code",
      "source": "# Set index\ntrain.index = train['Id'].values\ntest.index = test['Id'].values\n\n# Split data\ntrain_Id = train['Id'] # individual ID\ntrain_idhogar = train['idhogar'] # household ID\ntrain_y = train['Target'] # Target value\ntrain_X = train.drop(['Id', 'Target', 'idhogar'], axis=1) # features\n\ntest_Id = test['Id'] # individual ID\ntest_idhogar = test['idhogar'] # household ID\ntest_X = test.drop(['Id', 'idhogar'], axis=1) # features\n\n# Union train and test\nall_Id = pd.concat([train_Id, test_Id], axis=0)\nall_idhogar = pd.concat([train_idhogar, test_idhogar], axis=0)\nall_X = pd.concat([train_X, test_X], axis=0)",
      "execution_count": 4,
      "outputs": []
    },
    {
      "metadata": {
        "_uuid": "f72e5cf1b3b2bf66d2e347ab7e71d07e536f4b71"
      },
      "cell_type": "markdown",
      "source": "## Convert object into numeric\n* 'no' -> 0\n* 'yes' -> average of non-zero values"
    },
    {
      "metadata": {
        "trusted": true,
        "_uuid": "4352422243f335907f63ef39a620bad86c9d2144"
      },
      "cell_type": "code",
      "source": "all_X.dtypes[all_X.dtypes=='object']",
      "execution_count": 5,
      "outputs": [
        {
          "output_type": "execute_result",
          "execution_count": 5,
          "data": {
            "text/plain": "dependency    object\nedjefe        object\nedjefa        object\ndtype: object"
          },
          "metadata": {}
        }
      ]
    },
    {
      "metadata": {
        "trusted": true,
        "_uuid": "7dbfdcb8d72371bd9fa43488cae65201362847d4",
        "collapsed": true
      },
      "cell_type": "code",
      "source": "def obj_into_numeric(X=all_X, obj_list=['dependency', 'edjefe', 'edjefa']):\n    for obj_i in obj_list:\n        # average of non-zero values\n        all_obj_i = X[obj_i]\n        numeric_obj_i = all_obj_i[((all_obj_i!='no') & (all_obj_i!='yes'))]\n        obj_i_mean = numeric_obj_i.astype('float').mean()\n\n        # replace 'no' and 'yes'\n        X[obj_i].replace('no', 0, inplace=True)\n        X[obj_i].replace('yes', -1, inplace=True)\n        X[obj_i] = X[obj_i].astype('float')\n        X[obj_i].replace(-1, obj_i_mean, inplace=True)\n#     print('value_counts of data type')\n#     print(X.dtypes.value_counts())\n    return X",
      "execution_count": 6,
      "outputs": []
    },
    {
      "metadata": {
        "trusted": true,
        "_uuid": "6b07e76687c2302891b9702c34d2e03a6b4e6767",
        "collapsed": true
      },
      "cell_type": "code",
      "source": "train_X = obj_into_numeric(train_X)\ntest_X = obj_into_numeric(test_X)",
      "execution_count": 7,
      "outputs": []
    },
    {
      "metadata": {
        "trusted": true,
        "_uuid": "cedefcb6d0d394bae058ef760297b69424df3836",
        "collapsed": true
      },
      "cell_type": "code",
      "source": "from sklearn.model_selection import train_test_split, GridSearchCV\nfrom sklearn.metrics import confusion_matrix, f1_score, make_scorer\nimport lightgbm as lgb",
      "execution_count": 8,
      "outputs": []
    },
    {
      "metadata": {
        "trusted": true,
        "collapsed": true,
        "_uuid": "4da40e73c4548a89efdc1d88612619810c67cc59"
      },
      "cell_type": "code",
      "source": "X_train, X_test, y_train, y_test = train_test_split(train_X, train_y, test_size=0.1, random_state=0)",
      "execution_count": 9,
      "outputs": []
    },
    {
      "metadata": {
        "trusted": true,
        "_uuid": "4834d9411bae313c6bcf3ac0daaa49b5cacf2c90"
      },
      "cell_type": "code",
      "source": "gbm_param = {\n    'num_leaves':[210, 230, 240]\n}\n\nF1_scorer = make_scorer(f1_score, greater_is_better=True, average='macro')\ngbm = GridSearchCV(lgb.LGBMClassifier(), gbm_param, scoring=F1_scorer)\ngbm.fit(X_train, y_train)\ngbm.best_params_",
      "execution_count": null,
      "outputs": []
    },
    {
      "metadata": {
        "trusted": true,
        "_uuid": "78944216e63a4a0652ef8e6514af005581e6d87c"
      },
      "cell_type": "code",
      "source": "gbm",
      "execution_count": 13,
      "outputs": [
        {
          "output_type": "execute_result",
          "execution_count": 13,
          "data": {
            "text/plain": "{'num_leaves': 120}"
          },
          "metadata": {}
        }
      ]
    },
    {
      "metadata": {
        "trusted": true,
        "_uuid": "fbd93898add8ccc750c08cf10d7e486186921060",
        "collapsed": true
      },
      "cell_type": "code",
      "source": "import pickle\nwith open(os.path.join(working_dir, '20180720_lgbm_gridcv'), mode='wb') as f:\n    pickle.dump(gbm, f)\n    ",
      "execution_count": null,
      "outputs": []
    },
    {
      "metadata": {
        "trusted": true,
        "_uuid": "a27e6496334278e6b434d773c3815dfb8157154b",
        "collapsed": true
      },
      "cell_type": "code",
      "source": "y_test_pred = gbm.predict(X_test)\ncm = confusion_matrix(y_test, y_test_pred)\nf1 = f1_score(y_test, y_test_pred, average='macro')\nprint(\"confusion matrix: \\n\", cm)\nprint(\"f1: \\n\", f1)\n",
      "execution_count": null,
      "outputs": []
    },
    {
      "metadata": {
        "trusted": true,
        "_uuid": "26f5788375ab1ee1c5b76edd77f29551099de756",
        "collapsed": true
      },
      "cell_type": "code",
      "source": "pred = gbm.predict(test_X)\npred = pd.Series(data=pred, index=test_Id.values, name='Target')",
      "execution_count": null,
      "outputs": []
    },
    {
      "metadata": {
        "trusted": true,
        "_uuid": "9808e7262dceac3a6ff6bce53b185477b2de7653",
        "collapsed": true
      },
      "cell_type": "code",
      "source": "sample_submission = pd.read_csv(os.path.join(input_dir, 'sample_submission.csv'))\nsample_submission.head()",
      "execution_count": null,
      "outputs": []
    },
    {
      "metadata": {
        "trusted": true,
        "_uuid": "7b7fae74aba8e39ca7eba29af48ecf4ffe3367f0",
        "collapsed": true
      },
      "cell_type": "code",
      "source": "pred = pd.concat([test_Id, pred], axis=1, join_axes=[test_Id.index])\npred.head()",
      "execution_count": null,
      "outputs": []
    },
    {
      "metadata": {
        "trusted": true,
        "collapsed": true,
        "_uuid": "f18da5f96e98bb497632fc3e7d9b56153c5554d4"
      },
      "cell_type": "code",
      "source": "pred.to_csv('20180720_lgbm_gridcv.csv', index=False)",
      "execution_count": null,
      "outputs": []
    },
    {
      "metadata": {
        "trusted": true,
        "collapsed": true,
        "_uuid": "2687cea2258739d58c972c5cd1aa07334aaf41ac"
      },
      "cell_type": "code",
      "source": "",
      "execution_count": null,
      "outputs": []
    }
  ],
  "metadata": {
    "kernelspec": {
      "display_name": "Python 3",
      "language": "python",
      "name": "python3"
    },
    "language_info": {
      "name": "python",
      "version": "3.6.6",
      "mimetype": "text/x-python",
      "codemirror_mode": {
        "name": "ipython",
        "version": 3
      },
      "pygments_lexer": "ipython3",
      "nbconvert_exporter": "python",
      "file_extension": ".py"
    }
  },
  "nbformat": 4,
  "nbformat_minor": 1
}