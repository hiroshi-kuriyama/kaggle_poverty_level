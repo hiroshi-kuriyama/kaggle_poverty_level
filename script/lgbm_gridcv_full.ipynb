{
 "cells": [
  {
   "cell_type": "markdown",
   "metadata": {
    "_uuid": "be166bb18179af2a0d5c3e88d4637fe4c8d6bdd1"
   },
   "source": [
    "# LightGBM Grid Search CV"
   ]
  },
  {
   "cell_type": "code",
   "execution_count": 18,
   "metadata": {
    "_cell_guid": "79c7e3d0-c299-4dcb-8224-4455121ee9b0",
    "_uuid": "d629ff2d2480ee46fbb7e2d37f6b5fab8052498a",
    "collapsed": true
   },
   "outputs": [],
   "source": [
    "input_dir = '../input/'\n",
    "working_dir = '../working/'"
   ]
  },
  {
   "cell_type": "code",
   "execution_count": 19,
   "metadata": {
    "_uuid": "284b8ba887f0f577249002f93bdf7e7c116e9129",
    "collapsed": true
   },
   "outputs": [],
   "source": [
    "import os\n",
    "import numpy as np\n",
    "import pandas as pd\n",
    "import matplotlib.pyplot as plt\n",
    "%matplotlib inline"
   ]
  },
  {
   "cell_type": "code",
   "execution_count": 20,
   "metadata": {
    "_uuid": "75297b7b6961dded5389765cf5b78599dcd0e950"
   },
   "outputs": [
    {
     "name": "stdout",
     "output_type": "stream",
     "text": [
      "(9557, 143)\n",
      "(23856, 142)\n"
     ]
    }
   ],
   "source": [
    "train = pd.read_csv(os.path.join(input_dir, 'train.csv'))\n",
    "test = pd.read_csv(os.path.join(input_dir, 'test.csv'))\n",
    "print(train.shape)\n",
    "print(test.shape)"
   ]
  },
  {
   "cell_type": "code",
   "execution_count": 21,
   "metadata": {
    "_uuid": "41c7b4cde1bf39e2b7d12c8fc1ecc9e07fb08fbc",
    "collapsed": true
   },
   "outputs": [],
   "source": [
    "# Set index\n",
    "train.index = train['Id'].values\n",
    "test.index = test['Id'].values\n",
    "\n",
    "# Split data\n",
    "train_Id = train['Id'] # individual ID\n",
    "train_idhogar = train['idhogar'] # household ID\n",
    "train_y = train['Target'] # Target value\n",
    "train_X = train.drop(['Id', 'Target', 'idhogar'], axis=1) # features\n",
    "\n",
    "test_Id = test['Id'] # individual ID\n",
    "test_idhogar = test['idhogar'] # household ID\n",
    "test_X = test.drop(['Id', 'idhogar'], axis=1) # features\n",
    "\n",
    "# Union train and test\n",
    "all_Id = pd.concat([train_Id, test_Id], axis=0)\n",
    "all_idhogar = pd.concat([train_idhogar, test_idhogar], axis=0)\n",
    "all_X = pd.concat([train_X, test_X], axis=0)"
   ]
  },
  {
   "cell_type": "markdown",
   "metadata": {
    "_uuid": "f72e5cf1b3b2bf66d2e347ab7e71d07e536f4b71"
   },
   "source": [
    "## Convert object into numeric\n",
    "* 'no' -> 0\n",
    "* 'yes' -> average of non-zero values"
   ]
  },
  {
   "cell_type": "code",
   "execution_count": 22,
   "metadata": {
    "_uuid": "4352422243f335907f63ef39a620bad86c9d2144"
   },
   "outputs": [
    {
     "data": {
      "text/plain": [
       "dependency    object\n",
       "edjefe        object\n",
       "edjefa        object\n",
       "dtype: object"
      ]
     },
     "execution_count": 22,
     "metadata": {},
     "output_type": "execute_result"
    }
   ],
   "source": [
    "all_X.dtypes[all_X.dtypes=='object']"
   ]
  },
  {
   "cell_type": "code",
   "execution_count": 23,
   "metadata": {
    "_uuid": "7dbfdcb8d72371bd9fa43488cae65201362847d4",
    "collapsed": true
   },
   "outputs": [],
   "source": [
    "def obj_into_numeric(X=all_X, obj_list=['dependency', 'edjefe', 'edjefa']):\n",
    "    for obj_i in obj_list:\n",
    "        # average of non-zero values\n",
    "        all_obj_i = X[obj_i]\n",
    "        numeric_obj_i = all_obj_i[((all_obj_i!='no') & (all_obj_i!='yes'))]\n",
    "        obj_i_mean = numeric_obj_i.astype('float').mean()\n",
    "\n",
    "        # replace 'no' and 'yes'\n",
    "        X[obj_i].replace('no', 0, inplace=True)\n",
    "        X[obj_i].replace('yes', -1, inplace=True)\n",
    "        X[obj_i] = X[obj_i].astype('float')\n",
    "        X[obj_i].replace(-1, obj_i_mean, inplace=True)\n",
    "#     print('value_counts of data type')\n",
    "#     print(X.dtypes.value_counts())\n",
    "    return X"
   ]
  },
  {
   "cell_type": "code",
   "execution_count": 24,
   "metadata": {
    "_uuid": "6b07e76687c2302891b9702c34d2e03a6b4e6767",
    "collapsed": true
   },
   "outputs": [],
   "source": [
    "train_X = obj_into_numeric(train_X)\n",
    "test_X = obj_into_numeric(test_X)"
   ]
  },
  {
   "cell_type": "code",
   "execution_count": 25,
   "metadata": {
    "_uuid": "cedefcb6d0d394bae058ef760297b69424df3836",
    "collapsed": true
   },
   "outputs": [],
   "source": [
    "from sklearn.model_selection import train_test_split, GridSearchCV\n",
    "from sklearn.metrics import confusion_matrix, f1_score, make_scorer\n",
    "import lightgbm as lgb"
   ]
  },
  {
   "cell_type": "code",
   "execution_count": 26,
   "metadata": {
    "_uuid": "4da40e73c4548a89efdc1d88612619810c67cc59",
    "collapsed": true
   },
   "outputs": [],
   "source": [
    "X_head_Id,y_head_Id"
   ]
  },
  {
   "cell_type": "code",
   "execution_count": 58,
   "metadata": {
    "_uuid": "4834d9411bae313c6bcf3ac0daaa49b5cacf2c90"
   },
   "outputs": [
    {
     "data": {
      "text/plain": [
       "{'num_leaves': 180}"
      ]
     },
     "execution_count": 58,
     "metadata": {},
     "output_type": "execute_result"
    }
   ],
   "source": [
    "import warnings\n",
    "warnings.filterwarnings('ignore')\n",
    "\n",
    "\n",
    "gbm_param = {\n",
    "    'num_leaves':[150, 170, 180]\n",
    "    #,'min_data_in_leaf':[4,5,6]\n",
    "}\n",
    "\n",
    "\n",
    "\n",
    "F1_scorer = make_scorer(f1_score, greater_is_better=True, average='macro')\n",
    "gbm = GridSearchCV(\n",
    "    lgb.LGBMClassifier(objective='multiclassova', seed=0)\n",
    "    , gbm_param\n",
    "    , scoring=F1_scorer\n",
    ")\n",
    "gbm.fit(X_train, y_train)\n",
    "gbm.best_params_"
   ]
  },
  {
   "cell_type": "code",
   "execution_count": 48,
   "metadata": {
    "_uuid": "78944216e63a4a0652ef8e6514af005581e6d87c"
   },
   "outputs": [],
   "source": [
    "gbm = lgb.LGBMClassifier(objective='multiclassova').fit(X_train, y_train)"
   ]
  },
  {
   "cell_type": "code",
   "execution_count": 29,
   "metadata": {
    "_uuid": "fbd93898add8ccc750c08cf10d7e486186921060",
    "collapsed": true
   },
   "outputs": [],
   "source": [
    "import pickle\n",
    "with open(os.path.join(working_dir, '20180720_lgbm_gridcv'), mode='wb') as f:\n",
    "    pickle.dump(gbm, f)\n",
    "    "
   ]
  },
  {
   "cell_type": "code",
   "execution_count": 59,
   "metadata": {
    "_uuid": "a27e6496334278e6b434d773c3815dfb8157154b",
    "collapsed": true
   },
   "outputs": [
    {
     "name": "stdout",
     "output_type": "stream",
     "text": [
      "confusion matrix: \n",
      " [[ 56   8   0   3]\n",
      " [  1 147   6   7]\n",
      " [  0   4 111   9]\n",
      " [  0   1   2 601]]\n",
      "f1: \n",
      " 0.9286800119058332\n"
     ]
    }
   ],
   "source": [
    "y_test_pred = gbm.predict(X_test)\n",
    "cm = confusion_matrix(y_test, y_test_pred)\n",
    "f1 = f1_score(y_test, y_test_pred, average='macro')\n",
    "print(\"confusion matrix: \\n\", cm)\n",
    "print(\"f1: \\n\", f1)\n"
   ]
  },
  {
   "cell_type": "code",
   "execution_count": 31,
   "metadata": {
    "_uuid": "26f5788375ab1ee1c5b76edd77f29551099de756",
    "collapsed": true
   },
   "outputs": [],
   "source": [
    "pred = gbm.predict(test_X)\n",
    "pred = pd.Series(data=pred, index=test_Id.values, name='Target')"
   ]
  },
  {
   "cell_type": "code",
   "execution_count": null,
   "metadata": {
    "_uuid": "9808e7262dceac3a6ff6bce53b185477b2de7653",
    "collapsed": true
   },
   "outputs": [],
   "source": [
    "sample_submission = pd.read_csv(os.path.join(input_dir, 'sample_submission.csv'))\n",
    "sample_submission.head()"
   ]
  },
  {
   "cell_type": "code",
   "execution_count": null,
   "metadata": {
    "_uuid": "7b7fae74aba8e39ca7eba29af48ecf4ffe3367f0",
    "collapsed": true
   },
   "outputs": [],
   "source": [
    "pred = pd.concat([test_Id, pred], axis=1, join_axes=[test_Id.index])\n",
    "pred.head()"
   ]
  },
  {
   "cell_type": "code",
   "execution_count": null,
   "metadata": {
    "_uuid": "f18da5f96e98bb497632fc3e7d9b56153c5554d4",
    "collapsed": true
   },
   "outputs": [],
   "source": [
    "pred.to_csv('20180720_lgbm_gridcv.csv', index=False)"
   ]
  },
  {
   "cell_type": "code",
   "execution_count": null,
   "metadata": {
    "_uuid": "2687cea2258739d58c972c5cd1aa07334aaf41ac",
    "collapsed": true
   },
   "outputs": [],
   "source": []
  }
 ],
 "metadata": {
  "kernelspec": {
   "display_name": "Python 3",
   "language": "python",
   "name": "python3"
  },
  "language_info": {
   "codemirror_mode": {
    "name": "ipython",
    "version": 3
   },
   "file_extension": ".py",
   "mimetype": "text/x-python",
   "name": "python",
   "nbconvert_exporter": "python",
   "pygments_lexer": "ipython3",
   "version": "3.6.5"
  }
 },
 "nbformat": 4,
 "nbformat_minor": 2
}
